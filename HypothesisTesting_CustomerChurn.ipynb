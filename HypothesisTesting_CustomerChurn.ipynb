{
  "nbformat": 4,
  "nbformat_minor": 0,
  "metadata": {
    "colab": {
      "provenance": []
    },
    "kernelspec": {
      "name": "python3",
      "display_name": "Python 3"
    },
    "language_info": {
      "name": "python"
    }
  },
  "cells": [
    {
      "cell_type": "code",
      "source": [
        "!pip install pandas==1.3.4 numpy==1.21.4 seaborn==0.9.0 matplotlib==3.5.0 scikit-learn==0.20.1"
      ],
      "metadata": {
        "id": "oq9oav4cA9_n"
      },
      "execution_count": null,
      "outputs": []
    },
    {
      "cell_type": "code",
      "source": [
        "import pandas as pd\n",
        "import numpy as np\n",
        "\n",
        "import matplotlib.pyplot as plt\n",
        "%matplotlib inline\n",
        "import seaborn as sns\n",
        "\n",
        "import scipy.stats as stats \n",
        "from scipy.stats import chi2_contingency\n",
        "\n",
        "from statsmodels.formula.api import ols\n",
        "from statsmodels.stats.anova import anova_lm "
      ],
      "metadata": {
        "id": "2rOkpozcA7rk"
      },
      "execution_count": 2,
      "outputs": []
    },
    {
      "cell_type": "code",
      "execution_count": 4,
      "metadata": {
        "id": "bBru8-SpAUgi",
        "colab": {
          "base_uri": "https://localhost:8080/"
        },
        "outputId": "f305cf49-af90-492e-c1de-9c861caca68a"
      },
      "outputs": [
        {
          "output_type": "stream",
          "name": "stdout",
          "text": [
            "Downloading bank-customer-churn.zip to /content\n",
            "100% 307k/307k [00:00<00:00, 887kB/s]\n",
            "100% 307k/307k [00:00<00:00, 885kB/s]\n",
            "Archive:  bank-customer-churn.zip\n",
            "  inflating: Customer-Churn-Records.csv  \n"
          ]
        }
      ],
      "source": [
        "! cp kaggle.json ~/.kaggle/\n",
        "! chmod 600 ~/.kaggle/kaggle.json\n",
        "!kaggle datasets download -d radheshyamkollipara/bank-customer-churn\n",
        "!unzip bank-customer-churn.zip"
      ]
    },
    {
      "cell_type": "code",
      "source": [
        "data=pd.read_csv('Customer-Churn-Records.csv')\n",
        "data.head()\n",
        "data.info()\n",
        "# data.isnull().sum() #no null values\n",
        "# data.columns\n",
        "data.Geography.unique()"
      ],
      "metadata": {
        "colab": {
          "base_uri": "https://localhost:8080/"
        },
        "id": "uPRPGWe4BEjU",
        "outputId": "1635570a-cf57-4853-8e64-337dda3cb716"
      },
      "execution_count": 5,
      "outputs": [
        {
          "output_type": "stream",
          "name": "stdout",
          "text": [
            "<class 'pandas.core.frame.DataFrame'>\n",
            "RangeIndex: 10000 entries, 0 to 9999\n",
            "Data columns (total 18 columns):\n",
            " #   Column              Non-Null Count  Dtype  \n",
            "---  ------              --------------  -----  \n",
            " 0   RowNumber           10000 non-null  int64  \n",
            " 1   CustomerId          10000 non-null  int64  \n",
            " 2   Surname             10000 non-null  object \n",
            " 3   CreditScore         10000 non-null  int64  \n",
            " 4   Geography           10000 non-null  object \n",
            " 5   Gender              10000 non-null  object \n",
            " 6   Age                 10000 non-null  int64  \n",
            " 7   Tenure              10000 non-null  int64  \n",
            " 8   Balance             10000 non-null  float64\n",
            " 9   NumOfProducts       10000 non-null  int64  \n",
            " 10  HasCrCard           10000 non-null  int64  \n",
            " 11  IsActiveMember      10000 non-null  int64  \n",
            " 12  EstimatedSalary     10000 non-null  float64\n",
            " 13  Exited              10000 non-null  int64  \n",
            " 14  Complain            10000 non-null  int64  \n",
            " 15  Satisfaction Score  10000 non-null  int64  \n",
            " 16  Card Type           10000 non-null  object \n",
            " 17  Point Earned        10000 non-null  int64  \n",
            "dtypes: float64(2), int64(12), object(4)\n",
            "memory usage: 1.4+ MB\n"
          ]
        },
        {
          "output_type": "execute_result",
          "data": {
            "text/plain": [
              "array(['France', 'Spain', 'Germany'], dtype=object)"
            ]
          },
          "metadata": {},
          "execution_count": 5
        }
      ]
    },
    {
      "cell_type": "code",
      "source": [
        "data.rename(columns = {'Satisfaction Score': 'Satisfaction_Score'}, inplace = True)\n",
        "data.rename(columns = {'Card Type': 'Card_Type'}, inplace = True)\n",
        "data.rename(columns = {'Point Earned': 'Point_Earned'}, inplace = True)\n",
        "# Index(['RowNumber', 'CustomerId', 'Surname', 'CreditScore', 'Geography',\n",
        "#        'Gender', 'Age', 'Tenure', 'Balance', 'NumOfProducts', 'HasCrCard',\n",
        "#        'IsActiveMember', 'EstimatedSalary', 'Exited', 'Complain',\n",
        "#        'Satisfaction Score', 'Card Type', 'Point Earned'],\n",
        "#       dtype='object')\n",
        "data.Card_Type.unique()"
      ],
      "metadata": {
        "id": "Tzk367b0CQvj",
        "colab": {
          "base_uri": "https://localhost:8080/"
        },
        "outputId": "6dc79510-7239-4445-f080-9da1d9a382e2"
      },
      "execution_count": 52,
      "outputs": [
        {
          "output_type": "execute_result",
          "data": {
            "text/plain": [
              "array(['DIAMOND', 'GOLD', 'SILVER', 'PLATINUM'], dtype=object)"
            ]
          },
          "metadata": {},
          "execution_count": 52
        }
      ]
    },
    {
      "cell_type": "markdown",
      "source": [
        "1.\n",
        "\n",
        "H0: Null Hypothesis: Tenure of customer is irrelevant to customer churning \n",
        "\n",
        "HA: Alternate Hypothesis: Tenure effects customer churn probability\n",
        "\n",
        "Level of significance=5%(0.05)\n"
      ],
      "metadata": {
        "id": "UQqHjjI0Cav-"
      }
    },
    {
      "cell_type": "markdown",
      "source": [
        "Visualizing the correlation"
      ],
      "metadata": {
        "id": "T_0A_2gXFpNj"
      }
    },
    {
      "cell_type": "code",
      "source": [
        "exited=data.loc[data.Exited==1]\n",
        "stayed=data.loc[data.Exited==0]\n",
        "tenure_exited= exited.Tenure\n",
        "tenure_stayed= stayed.Tenure\n",
        "sns.distplot(tenure_exited,color='green',hist=False)\n",
        "sns.distplot(tenure_stayed,color='red',hist=False)\n"
      ],
      "metadata": {
        "id": "oXauo_wQCS4l",
        "colab": {
          "base_uri": "https://localhost:8080/",
          "height": 868
        },
        "outputId": "38144574-7b6e-4f4f-d4b3-098f10a84dc6"
      },
      "execution_count": null,
      "outputs": [
        {
          "output_type": "stream",
          "name": "stderr",
          "text": [
            "<ipython-input-17-4e5eb105ec9c>:5: UserWarning: \n",
            "\n",
            "`distplot` is a deprecated function and will be removed in seaborn v0.14.0.\n",
            "\n",
            "Please adapt your code to use either `displot` (a figure-level function with\n",
            "similar flexibility) or `kdeplot` (an axes-level function for kernel density plots).\n",
            "\n",
            "For a guide to updating your code to use the new functions, please see\n",
            "https://gist.github.com/mwaskom/de44147ed2974457ad6372750bbe5751\n",
            "\n",
            "  sns.distplot(tenure_exited,color='green',hist=False)\n",
            "<ipython-input-17-4e5eb105ec9c>:6: UserWarning: \n",
            "\n",
            "`distplot` is a deprecated function and will be removed in seaborn v0.14.0.\n",
            "\n",
            "Please adapt your code to use either `displot` (a figure-level function with\n",
            "similar flexibility) or `kdeplot` (an axes-level function for kernel density plots).\n",
            "\n",
            "For a guide to updating your code to use the new functions, please see\n",
            "https://gist.github.com/mwaskom/de44147ed2974457ad6372750bbe5751\n",
            "\n",
            "  sns.distplot(tenure_stayed,color='red',hist=False)\n"
          ]
        },
        {
          "output_type": "execute_result",
          "data": {
            "text/plain": [
              "<Axes: xlabel='Tenure', ylabel='Density'>"
            ]
          },
          "metadata": {},
          "execution_count": 17
        },
        {
          "output_type": "display_data",
          "data": {
            "text/plain": [
              "<Figure size 640x480 with 1 Axes>"
            ],
            "image/png": "[encoded data removed]"
          },
          "metadata": {}
        }
      ]
    },
    {
      "cell_type": "markdown",
      "source": [
        "Calculating the t-values and p-values"
      ],
      "metadata": {
        "id": "c2hjr3I0FsTW"
      }
    },
    {
      "cell_type": "code",
      "source": [
        "print(exited.Tenure.mean())\n",
        "print(stayed.Tenure.mean())\n",
        "alpha=0.05\n",
        "t_value1, p_value1 = stats.ttest_ind(exited.Tenure, stayed.Tenure)\n",
        "print(\"t_value1 = \",t_value1, \", p_value1 = \", p_value1)\n",
        "if p_value1 <alpha:\n",
        "    print(\"Conclusion: since p_value {} is less than alpha {} \". format (p_value1,alpha))\n",
        "    print(\"Reject the null hypothesis that there is no effect of tenure on bank customer churn\")\n",
        "    \n",
        "else:\n",
        "    print(\"Conclusion: since p_value {} is greater than alpha {} \". format (p_value1,alpha))\n",
        "    print(\"Fail to reject the null hypothesis that there is an effect of tenure on bank customer churn\")"
      ],
      "metadata": {
        "colab": {
          "base_uri": "https://localhost:8080/"
        },
        "id": "VrW9lNzRE5Bf",
        "outputId": "aecdb42a-4273-401c-b0cb-816721316396"
      },
      "execution_count": null,
      "outputs": [
        {
          "output_type": "stream",
          "name": "stdout",
          "text": [
            "4.934739941118744\n",
            "5.032780708364733\n",
            "t_value1 =  -1.365570678788837 , p_value1 =  0.1721044754880606\n",
            "Conclusion: since p_value 0.1721044754880606 is greater than alpha 0.05 \n",
            "Fail to reject the null hypothesis that there is an effect of tenure on bank customer churn\n"
          ]
        }
      ]
    },
    {
      "cell_type": "markdown",
      "source": [
        "2.\n",
        "\n",
        "H0: Null Hypothesis: Complaint status of customer is irrelevant to customer Satisfaction Score\n",
        "\n",
        "HA: Alternate Hypothesis: Complaint status effects customer Satisfaction Score\n",
        "\n",
        "Level of significance=5%(0.05)"
      ],
      "metadata": {
        "id": "a8DsKrfMQ7wI"
      }
    },
    {
      "cell_type": "code",
      "source": [
        "data.Complain.value_counts()"
      ],
      "metadata": {
        "colab": {
          "base_uri": "https://localhost:8080/"
        },
        "id": "3NIUL4GRRU33",
        "outputId": "f4d8a7f7-35bd-4777-848b-285da93c89cc"
      },
      "execution_count": null,
      "outputs": [
        {
          "output_type": "execute_result",
          "data": {
            "text/plain": [
              "0    7956\n",
              "1    2044\n",
              "Name: Complain, dtype: int64"
            ]
          },
          "metadata": {},
          "execution_count": 21
        }
      ]
    },
    {
      "cell_type": "code",
      "source": [
        "df=data.sum(axis=0)\n",
        "df.head()\n",
        "df.iloc[0]['Complain']\n"
      ],
      "metadata": {
        "colab": {
          "base_uri": "https://localhost:8080/",
          "height": 200
        },
        "id": "qANcSpCCT-Ry",
        "outputId": "38afdc15-4ca3-49ba-b27d-f4b37effe9eb"
      },
      "execution_count": null,
      "outputs": [
        {
          "output_type": "error",
          "ename": "IndexError",
          "evalue": "ignored",
          "traceback": [
            "\u001b[0;31m---------------------------------------------------------------------------\u001b[0m",
            "\u001b[0;31mIndexError\u001b[0m                                Traceback (most recent call last)",
            "\u001b[0;32m<ipython-input-44-852ba81e9b5a>\u001b[0m in \u001b[0;36m<cell line: 3>\u001b[0;34m()\u001b[0m\n\u001b[1;32m      1\u001b[0m \u001b[0mdf\u001b[0m\u001b[0;34m=\u001b[0m\u001b[0mdata\u001b[0m\u001b[0;34m.\u001b[0m\u001b[0msum\u001b[0m\u001b[0;34m(\u001b[0m\u001b[0maxis\u001b[0m\u001b[0;34m=\u001b[0m\u001b[0;36m0\u001b[0m\u001b[0;34m)\u001b[0m\u001b[0;34m\u001b[0m\u001b[0;34m\u001b[0m\u001b[0m\n\u001b[1;32m      2\u001b[0m \u001b[0mdf\u001b[0m\u001b[0;34m.\u001b[0m\u001b[0mhead\u001b[0m\u001b[0;34m(\u001b[0m\u001b[0;34m)\u001b[0m\u001b[0;34m\u001b[0m\u001b[0;34m\u001b[0m\u001b[0m\n\u001b[0;32m----> 3\u001b[0;31m \u001b[0mdf\u001b[0m\u001b[0;34m.\u001b[0m\u001b[0miloc\u001b[0m\u001b[0;34m[\u001b[0m\u001b[0;36m0\u001b[0m\u001b[0;34m]\u001b[0m\u001b[0;34m[\u001b[0m\u001b[0;34m'Complain'\u001b[0m\u001b[0;34m]\u001b[0m\u001b[0;34m\u001b[0m\u001b[0;34m\u001b[0m\u001b[0m\n\u001b[0m",
            "\u001b[0;31mIndexError\u001b[0m: invalid index to scalar variable."
          ]
        }
      ]
    },
    {
      "cell_type": "code",
      "source": [
        "complaint_yes = data.loc[data.Complain==1]\n",
        "print(complaint_yes)\n",
        "complaint_existed = complaint_yes.Exited\n",
        "complain_mean = complaint_existed.mean()\n",
        "\n",
        "complaint_no = data.loc[data.Complain==0]\n",
        "complaint_no_existed = complaint_no.Exited\n",
        "complain_no_mean = complaint_no_existed.mean()"
      ],
      "metadata": {
        "colab": {
          "base_uri": "https://localhost:8080/"
        },
        "id": "HwFSn13WQ6JR",
        "outputId": "dfaa4db1-7e79-46bb-f9da-e74dfe7566ee"
      },
      "execution_count": 6,
      "outputs": [
        {
          "output_type": "stream",
          "name": "stdout",
          "text": [
            "      RowNumber  CustomerId         Surname  CreditScore Geography  Gender  \\\n",
            "0             1    15634602        Hargrave          619    France  Female   \n",
            "1             2    15647311            Hill          608     Spain  Female   \n",
            "2             3    15619304            Onio          502    France  Female   \n",
            "5             6    15574012             Chu          645     Spain    Male   \n",
            "7             8    15656148          Obinna          376   Germany  Female   \n",
            "...         ...         ...             ...          ...       ...     ...   \n",
            "9984       9985    15696175  Echezonachukwu          602   Germany    Male   \n",
            "9985       9986    15586914          Nepean          659    France    Male   \n",
            "9991       9992    15769959     Ajuluchukwu          597    France  Female   \n",
            "9997       9998    15584532             Liu          709    France  Female   \n",
            "9998       9999    15682355       Sabbatini          772   Germany    Male   \n",
            "\n",
            "      Age  Tenure    Balance  NumOfProducts  HasCrCard  IsActiveMember  \\\n",
            "0      42       2       0.00              1          1               1   \n",
            "1      41       1   83807.86              1          0               1   \n",
            "2      42       8  159660.80              3          1               0   \n",
            "5      44       8  113755.78              2          1               0   \n",
            "7      29       4  115046.74              4          1               0   \n",
            "...   ...     ...        ...            ...        ...             ...   \n",
            "9984   35       7   90602.42              2          1               1   \n",
            "9985   36       6  123841.49              2          1               0   \n",
            "9991   53       4   88381.21              1          1               0   \n",
            "9997   36       7       0.00              1          0               1   \n",
            "9998   42       3   75075.31              2          1               0   \n",
            "\n",
            "      EstimatedSalary  Exited  Complain  Satisfaction Score Card Type  \\\n",
            "0           101348.88       1         1                   2   DIAMOND   \n",
            "1           112542.58       0         1                   3   DIAMOND   \n",
            "2           113931.57       1         1                   3   DIAMOND   \n",
            "5           149756.71       1         1                   5   DIAMOND   \n",
            "7           119346.88       1         1                   2   DIAMOND   \n",
            "...               ...     ...       ...                 ...       ...   \n",
            "9984         51695.41       0         1                   3      GOLD   \n",
            "9985         96833.00       0         1                   5  PLATINUM   \n",
            "9991         69384.71       1         1                   3      GOLD   \n",
            "9997         42085.58       1         1                   3    SILVER   \n",
            "9998         92888.52       1         1                   2      GOLD   \n",
            "\n",
            "      Point Earned  \n",
            "0              464  \n",
            "1              456  \n",
            "2              377  \n",
            "5              484  \n",
            "7              282  \n",
            "...            ...  \n",
            "9984           764  \n",
            "9985           875  \n",
            "9991           369  \n",
            "9997           564  \n",
            "9998           339  \n",
            "\n",
            "[2044 rows x 18 columns]\n"
          ]
        }
      ]
    },
    {
      "cell_type": "code",
      "source": [
        "sns.boxplot(x=data.Complain, y=data.Satisfaction_Score, data=data).set(title=\"Fig:1 Complain vs Exited\")"
      ],
      "metadata": {
        "colab": {
          "base_uri": "https://localhost:8080/",
          "height": 489
        },
        "id": "fhiqBEQISrY_",
        "outputId": "e5834485-cfcd-40b5-d4c3-5ed27cb5036e"
      },
      "execution_count": 47,
      "outputs": [
        {
          "output_type": "execute_result",
          "data": {
            "text/plain": [
              "[Text(0.5, 1.0, 'Fig:1 Complain vs Exited')]"
            ]
          },
          "metadata": {},
          "execution_count": 47
        },
        {
          "output_type": "display_data",
          "data": {
            "text/plain": [
              "<Figure size 640x480 with 1 Axes>"
            ],
            "image/png": "[encoded data removed]"
          },
          "metadata": {}
        }
      ]
    },
    {
      "cell_type": "code",
      "source": [
        "alpha=0.05\n",
        "t_val2, p_value2 = stats.ttest_ind(complaint_existed, complaint_no_existed)\n",
        "p_value_onetail=p_value2/2\n",
        "print(\"t_value = {} , p_value ={} , p_value_onetail = {}\".format(t_val2, p_value2, p_value_onetail))\n",
        "\n",
        "if p_value2 <alpha : \n",
        "  print(\"Conclusion:Since p_value {} is less than alpha {} \".format (p_value_onetail,alpha) ) \n",
        "  print(\"Reject null hypothesis that complain status does not effect Satisfaction Score.\")\n",
        "\n",
        "else: \n",
        "  print(\"Conclusion:Since p value {} is greater than alpha {} \".format (p_value_onetail,alpha)) \n",
        "  print(\"Failed to reject null hypothesis that complain status does not effect Satisfaction Score.\")"
      ],
      "metadata": {
        "colab": {
          "base_uri": "https://localhost:8080/"
        },
        "id": "vE-mfZb9ZF68",
        "outputId": "83ebd698-aef0-4655-eea4-9dd53207bc23"
      },
      "execution_count": null,
      "outputs": [
        {
          "output_type": "stream",
          "name": "stdout",
          "text": [
            "t_value = 1073.7975930429425 , p_value =0.0 , p_value_onetail = 0.0\n",
            "Conclusion:Since p_value 0.0 is less than alpha 0.05 \n",
            "Reject null hypothesis that complain status does not effect Churning.\n"
          ]
        }
      ]
    },
    {
      "cell_type": "markdown",
      "source": [
        "3.\n",
        "\n",
        "H0: Null Hypothesis: Geography of customer is irrelevant to customer credit score\n",
        "\n",
        "HA: Alternate Hypothesis: Geography effects customer credit score\n",
        "\n",
        "Level of significance=5%(0.05)"
      ],
      "metadata": {
        "id": "4fG3IchDLcoS"
      }
    },
    {
      "cell_type": "code",
      "source": [
        "female=data.loc[data.Gender==\"Female\"]\n",
        "male=data.loc[data.Gender==\"Male\"]\n",
        "# female_geography=female.loc[female['Geography']==['Spain', 'Germany', 'France']]\n",
        "# male_geography=male.loc[male['Geography']==['Spain', 'Germany', 'France']]\n",
        "female.groupby([female.Geography]).mean().Exited\n",
        "male.groupby([male.Geography]).mean().Exited\n",
        "female.head()"
      ],
      "metadata": {
        "colab": {
          "base_uri": "https://localhost:8080/",
          "height": 357
        },
        "id": "u5hPDpcmQidU",
        "outputId": "cf36851b-b27c-41ce-b5aa-796f27a83056"
      },
      "execution_count": 41,
      "outputs": [
        {
          "output_type": "stream",
          "name": "stderr",
          "text": [
            "<ipython-input-41-4d24b8d4ace4>:5: FutureWarning: The default value of numeric_only in DataFrameGroupBy.mean is deprecated. In a future version, numeric_only will default to False. Either specify numeric_only or select only columns which should be valid for the function.\n",
            "  female.groupby([female.Geography]).mean().Exited\n",
            "<ipython-input-41-4d24b8d4ace4>:6: FutureWarning: The default value of numeric_only in DataFrameGroupBy.mean is deprecated. In a future version, numeric_only will default to False. Either specify numeric_only or select only columns which should be valid for the function.\n",
            "  male.groupby([male.Geography]).mean().Exited\n"
          ]
        },
        {
          "output_type": "execute_result",
          "data": {
            "text/plain": [
              "   RowNumber  CustomerId   Surname  CreditScore Geography  Gender  Age  \\\n",
              "0          1    15634602  Hargrave          619    France  Female   42   \n",
              "1          2    15647311      Hill          608     Spain  Female   41   \n",
              "2          3    15619304      Onio          502    France  Female   42   \n",
              "3          4    15701354      Boni          699    France  Female   39   \n",
              "4          5    15737888  Mitchell          850     Spain  Female   43   \n",
              "\n",
              "   Tenure    Balance  NumOfProducts  HasCrCard  IsActiveMember  \\\n",
              "0       2       0.00              1          1               1   \n",
              "1       1   83807.86              1          0               1   \n",
              "2       8  159660.80              3          1               0   \n",
              "3       1       0.00              2          0               0   \n",
              "4       2  125510.82              1          1               1   \n",
              "\n",
              "   EstimatedSalary  Exited  Complain  Satisfaction Score Card Type  \\\n",
              "0        101348.88       1         1                   2   DIAMOND   \n",
              "1        112542.58       0         1                   3   DIAMOND   \n",
              "2        113931.57       1         1                   3   DIAMOND   \n",
              "3         93826.63       0         0                   5      GOLD   \n",
              "4         79084.10       0         0                   5      GOLD   \n",
              "\n",
              "   Point Earned  \n",
              "0           464  \n",
              "1           456  \n",
              "2           377  \n",
              "3           350  \n",
              "4           425  "
            ],
            "text/html": [
              "\n",
              "  <div id=\"df-100fabd4-8309-4bcb-bd2c-1a5edabb5678\">\n",
              "    <div class=\"colab-df-container\">\n",
              "      <div>\n",
              "<style scoped>\n",
              "    .dataframe tbody tr th:only-of-type {\n",
              "        vertical-align: middle;\n",
              "    }\n",
              "\n",
              "    .dataframe tbody tr th {\n",
              "        vertical-align: top;\n",
              "    }\n",
              "\n",
              "    .dataframe thead th {\n",
              "        text-align: right;\n",
              "    }\n",
              "</style>\n",
              "<table border=\"1\" class=\"dataframe\">\n",
              "  <thead>\n",
              "    <tr style=\"text-align: right;\">\n",
              "      <th></th>\n",
              "      <th>RowNumber</th>\n",
              "      <th>CustomerId</th>\n",
              "      <th>Surname</th>\n",
              "      <th>CreditScore</th>\n",
              "      <th>Geography</th>\n",
              "      <th>Gender</th>\n",
              "      <th>Age</th>\n",
              "      <th>Tenure</th>\n",
              "      <th>Balance</th>\n",
              "      <th>NumOfProducts</th>\n",
              "      <th>HasCrCard</th>\n",
              "      <th>IsActiveMember</th>\n",
              "      <th>EstimatedSalary</th>\n",
              "      <th>Exited</th>\n",
              "      <th>Complain</th>\n",
              "      <th>Satisfaction Score</th>\n",
              "      <th>Card Type</th>\n",
              "      <th>Point Earned</th>\n",
              "    </tr>\n",
              "  </thead>\n",
              "  <tbody>\n",
              "    <tr>\n",
              "      <th>0</th>\n",
              "      <td>1</td>\n",
              "      <td>15634602</td>\n",
              "      <td>Hargrave</td>\n",
              "      <td>619</td>\n",
              "      <td>France</td>\n",
              "      <td>Female</td>\n",
              "      <td>42</td>\n",
              "      <td>2</td>\n",
              "      <td>0.00</td>\n",
              "      <td>1</td>\n",
              "      <td>1</td>\n",
              "      <td>1</td>\n",
              "      <td>101348.88</td>\n",
              "      <td>1</td>\n",
              "      <td>1</td>\n",
              "      <td>2</td>\n",
              "      <td>DIAMOND</td>\n",
              "      <td>464</td>\n",
              "    </tr>\n",
              "    <tr>\n",
              "      <th>1</th>\n",
              "      <td>2</td>\n",
              "      <td>15647311</td>\n",
              "      <td>Hill</td>\n",
              "      <td>608</td>\n",
              "      <td>Spain</td>\n",
              "      <td>Female</td>\n",
              "      <td>41</td>\n",
              "      <td>1</td>\n",
              "      <td>83807.86</td>\n",
              "      <td>1</td>\n",
              "      <td>0</td>\n",
              "      <td>1</td>\n",
              "      <td>112542.58</td>\n",
              "      <td>0</td>\n",
              "      <td>1</td>\n",
              "      <td>3</td>\n",
              "      <td>DIAMOND</td>\n",
              "      <td>456</td>\n",
              "    </tr>\n",
              "    <tr>\n",
              "      <th>2</th>\n",
              "      <td>3</td>\n",
              "      <td>15619304</td>\n",
              "      <td>Onio</td>\n",
              "      <td>502</td>\n",
              "      <td>France</td>\n",
              "      <td>Female</td>\n",
              "      <td>42</td>\n",
              "      <td>8</td>\n",
              "      <td>159660.80</td>\n",
              "      <td>3</td>\n",
              "      <td>1</td>\n",
              "      <td>0</td>\n",
              "      <td>113931.57</td>\n",
              "      <td>1</td>\n",
              "      <td>1</td>\n",
              "      <td>3</td>\n",
              "      <td>DIAMOND</td>\n",
              "      <td>377</td>\n",
              "    </tr>\n",
              "    <tr>\n",
              "      <th>3</th>\n",
              "      <td>4</td>\n",
              "      <td>15701354</td>\n",
              "      <td>Boni</td>\n",
              "      <td>699</td>\n",
              "      <td>France</td>\n",
              "      <td>Female</td>\n",
              "      <td>39</td>\n",
              "      <td>1</td>\n",
              "      <td>0.00</td>\n",
              "      <td>2</td>\n",
              "      <td>0</td>\n",
              "      <td>0</td>\n",
              "      <td>93826.63</td>\n",
              "      <td>0</td>\n",
              "      <td>0</td>\n",
              "      <td>5</td>\n",
              "      <td>GOLD</td>\n",
              "      <td>350</td>\n",
              "    </tr>\n",
              "    <tr>\n",
              "      <th>4</th>\n",
              "      <td>5</td>\n",
              "      <td>15737888</td>\n",
              "      <td>Mitchell</td>\n",
              "      <td>850</td>\n",
              "      <td>Spain</td>\n",
              "      <td>Female</td>\n",
              "      <td>43</td>\n",
              "      <td>2</td>\n",
              "      <td>125510.82</td>\n",
              "      <td>1</td>\n",
              "      <td>1</td>\n",
              "      <td>1</td>\n",
              "      <td>79084.10</td>\n",
              "      <td>0</td>\n",
              "      <td>0</td>\n",
              "      <td>5</td>\n",
              "      <td>GOLD</td>\n",
              "      <td>425</td>\n",
              "    </tr>\n",
              "  </tbody>\n",
              "</table>\n",
              "</div>\n",
              "      <button class=\"colab-df-convert\" onclick=\"convertToInteractive('df-100fabd4-8309-4bcb-bd2c-1a5edabb5678')\"\n",
              "              title=\"Convert this dataframe to an interactive table.\"\n",
              "              style=\"display:none;\">\n",
              "        \n",
              "  <svg xmlns=\"http://www.w3.org/2000/svg\" height=\"24px\"viewBox=\"0 0 24 24\"\n",
              "       width=\"24px\">\n",
              "    <path d=\"M0 0h24v24H0V0z\" fill=\"none\"/>\n",
              "    <path d=\"M18.56 5.44l.94 2.06.94-2.06 2.06-.94-2.06-.94-.94-2.06-.94 2.06-2.06.94zm-11 1L8.5 8.5l.94-2.06 2.06-.94-2.06-.94L8.5 2.5l-.94 2.06-2.06.94zm10 10l.94 2.06.94-2.06 2.06-.94-2.06-.94-.94-2.06-.94 2.06-2.06.94z\"/><path d=\"M17.41 7.96l-1.37-1.37c-.4-.4-.92-.59-1.43-.59-.52 0-1.04.2-1.43.59L10.3 9.45l-7.72 7.72c-.78.78-.78 2.05 0 2.83L4 21.41c.39.39.9.59 1.41.59.51 0 1.02-.2 1.41-.59l7.78-7.78 2.81-2.81c.8-.78.8-2.07 0-2.86zM5.41 20L4 18.59l7.72-7.72 1.47 1.35L5.41 20z\"/>\n",
              "  </svg>\n",
              "      </button>\n",
              "      \n",
              "  <style>\n",
              "    .colab-df-container {\n",
              "      display:flex;\n",
              "      flex-wrap:wrap;\n",
              "      gap: 12px;\n",
              "    }\n",
              "\n",
              "    .colab-df-convert {\n",
              "      background-color: #E8F0FE;\n",
              "      border: none;\n",
              "      border-radius: 50%;\n",
              "      cursor: pointer;\n",
              "      display: none;\n",
              "      fill: #1967D2;\n",
              "      height: 32px;\n",
              "      padding: 0 0 0 0;\n",
              "      width: 32px;\n",
              "    }\n",
              "\n",
              "    .colab-df-convert:hover {\n",
              "      background-color: #E2EBFA;\n",
              "      box-shadow: 0px 1px 2px rgba(60, 64, 67, 0.3), 0px 1px 3px 1px rgba(60, 64, 67, 0.15);\n",
              "      fill: #174EA6;\n",
              "    }\n",
              "\n",
              "    [theme=dark] .colab-df-convert {\n",
              "      background-color: #3B4455;\n",
              "      fill: #D2E3FC;\n",
              "    }\n",
              "\n",
              "    [theme=dark] .colab-df-convert:hover {\n",
              "      background-color: #434B5C;\n",
              "      box-shadow: 0px 1px 3px 1px rgba(0, 0, 0, 0.15);\n",
              "      filter: drop-shadow(0px 1px 2px rgba(0, 0, 0, 0.3));\n",
              "      fill: #FFFFFF;\n",
              "    }\n",
              "  </style>\n",
              "\n",
              "      <script>\n",
              "        const buttonEl =\n",
              "          document.querySelector('#df-100fabd4-8309-4bcb-bd2c-1a5edabb5678 button.colab-df-convert');\n",
              "        buttonEl.style.display =\n",
              "          google.colab.kernel.accessAllowed ? 'block' : 'none';\n",
              "\n",
              "        async function convertToInteractive(key) {\n",
              "          const element = document.querySelector('#df-100fabd4-8309-4bcb-bd2c-1a5edabb5678');\n",
              "          const dataTable =\n",
              "            await google.colab.kernel.invokeFunction('convertToInteractive',\n",
              "                                                     [key], {});\n",
              "          if (!dataTable) return;\n",
              "\n",
              "          const docLinkHtml = 'Like what you see? Visit the ' +\n",
              "            '<a target=\"_blank\" href=https://colab.research.google.com/notebooks/data_table.ipynb>data table notebook</a>'\n",
              "            + ' to learn more about interactive tables.';\n",
              "          element.innerHTML = '';\n",
              "          dataTable['output_type'] = 'display_data';\n",
              "          await google.colab.output.renderOutput(dataTable, element);\n",
              "          const docLink = document.createElement('div');\n",
              "          docLink.innerHTML = docLinkHtml;\n",
              "          element.appendChild(docLink);\n",
              "        }\n",
              "      </script>\n",
              "    </div>\n",
              "  </div>\n",
              "  "
            ]
          },
          "metadata": {},
          "execution_count": 41
        }
      ]
    },
    {
      "cell_type": "code",
      "source": [
        "fig, axes = plt.subplots(1, 2, figsize=(10, 5), sharey=True)\n",
        "sns.boxplot(ax=axes[0], data=female, x='Geography', y='CreditScore')\n",
        "sns.boxplot(ax=axes[1], data=male, x='Geography', y='CreditScore')\n"
      ],
      "metadata": {
        "colab": {
          "base_uri": "https://localhost:8080/",
          "height": 482
        },
        "id": "RqqJ6a-VUOBX",
        "outputId": "8fabc55c-7407-4663-fcbb-191d7b46e874"
      },
      "execution_count": 42,
      "outputs": [
        {
          "output_type": "execute_result",
          "data": {
            "text/plain": [
              "<Axes: xlabel='Geography', ylabel='CreditScore'>"
            ]
          },
          "metadata": {},
          "execution_count": 42
        },
        {
          "output_type": "display_data",
          "data": {
            "text/plain": [
              "<Figure size 1000x500 with 2 Axes>"
            ],
            "image/png": "[encoded data removed]"
          },
          "metadata": {}
        }
      ]
    },
    {
      "cell_type": "code",
      "source": [
        "formula = 'CreditScore ~ C(Geography)'\n",
        "model = ols(formula, female).fit()\n",
        "aov_table = anova_lm(model)\n",
        "aov_table  #p-value is 0.715858 and it is greater than the alpha (0.05), therefore we fail to reject the null hypothesis.\n"
      ],
      "metadata": {
        "colab": {
          "base_uri": "https://localhost:8080/",
          "height": 112
        },
        "id": "mXIjAo-_YKE9",
        "outputId": "a5dce0c2-66a0-4eca-e47a-56e38872fb97"
      },
      "execution_count": 48,
      "outputs": [
        {
          "output_type": "execute_result",
          "data": {
            "text/plain": [
              "                  df        sum_sq      mean_sq         F    PR(>F)\n",
              "C(Geography)     2.0  1.318823e+04  6594.114669  0.703822  0.494745\n",
              "Residual      4540.0  4.253532e+07  9369.012911       NaN       NaN"
            ],
            "text/html": [
              "\n",
              "  <div id=\"df-44839faf-70e7-47af-a215-99bfc6275864\">\n",
              "    <div class=\"colab-df-container\">\n",
              "      <div>\n",
              "<style scoped>\n",
              "    .dataframe tbody tr th:only-of-type {\n",
              "        vertical-align: middle;\n",
              "    }\n",
              "\n",
              "    .dataframe tbody tr th {\n",
              "        vertical-align: top;\n",
              "    }\n",
              "\n",
              "    .dataframe thead th {\n",
              "        text-align: right;\n",
              "    }\n",
              "</style>\n",
              "<table border=\"1\" class=\"dataframe\">\n",
              "  <thead>\n",
              "    <tr style=\"text-align: right;\">\n",
              "      <th></th>\n",
              "      <th>df</th>\n",
              "      <th>sum_sq</th>\n",
              "      <th>mean_sq</th>\n",
              "      <th>F</th>\n",
              "      <th>PR(&gt;F)</th>\n",
              "    </tr>\n",
              "  </thead>\n",
              "  <tbody>\n",
              "    <tr>\n",
              "      <th>C(Geography)</th>\n",
              "      <td>2.0</td>\n",
              "      <td>1.318823e+04</td>\n",
              "      <td>6594.114669</td>\n",
              "      <td>0.703822</td>\n",
              "      <td>0.494745</td>\n",
              "    </tr>\n",
              "    <tr>\n",
              "      <th>Residual</th>\n",
              "      <td>4540.0</td>\n",
              "      <td>4.253532e+07</td>\n",
              "      <td>9369.012911</td>\n",
              "      <td>NaN</td>\n",
              "      <td>NaN</td>\n",
              "    </tr>\n",
              "  </tbody>\n",
              "</table>\n",
              "</div>\n",
              "      <button class=\"colab-df-convert\" onclick=\"convertToInteractive('df-44839faf-70e7-47af-a215-99bfc6275864')\"\n",
              "              title=\"Convert this dataframe to an interactive table.\"\n",
              "              style=\"display:none;\">\n",
              "        \n",
              "  <svg xmlns=\"http://www.w3.org/2000/svg\" height=\"24px\"viewBox=\"0 0 24 24\"\n",
              "       width=\"24px\">\n",
              "    <path d=\"M0 0h24v24H0V0z\" fill=\"none\"/>\n",
              "    <path d=\"M18.56 5.44l.94 2.06.94-2.06 2.06-.94-2.06-.94-.94-2.06-.94 2.06-2.06.94zm-11 1L8.5 8.5l.94-2.06 2.06-.94-2.06-.94L8.5 2.5l-.94 2.06-2.06.94zm10 10l.94 2.06.94-2.06 2.06-.94-2.06-.94-.94-2.06-.94 2.06-2.06.94z\"/><path d=\"M17.41 7.96l-1.37-1.37c-.4-.4-.92-.59-1.43-.59-.52 0-1.04.2-1.43.59L10.3 9.45l-7.72 7.72c-.78.78-.78 2.05 0 2.83L4 21.41c.39.39.9.59 1.41.59.51 0 1.02-.2 1.41-.59l7.78-7.78 2.81-2.81c.8-.78.8-2.07 0-2.86zM5.41 20L4 18.59l7.72-7.72 1.47 1.35L5.41 20z\"/>\n",
              "  </svg>\n",
              "      </button>\n",
              "      \n",
              "  <style>\n",
              "    .colab-df-container {\n",
              "      display:flex;\n",
              "      flex-wrap:wrap;\n",
              "      gap: 12px;\n",
              "    }\n",
              "\n",
              "    .colab-df-convert {\n",
              "      background-color: #E8F0FE;\n",
              "      border: none;\n",
              "      border-radius: 50%;\n",
              "      cursor: pointer;\n",
              "      display: none;\n",
              "      fill: #1967D2;\n",
              "      height: 32px;\n",
              "      padding: 0 0 0 0;\n",
              "      width: 32px;\n",
              "    }\n",
              "\n",
              "    .colab-df-convert:hover {\n",
              "      background-color: #E2EBFA;\n",
              "      box-shadow: 0px 1px 2px rgba(60, 64, 67, 0.3), 0px 1px 3px 1px rgba(60, 64, 67, 0.15);\n",
              "      fill: #174EA6;\n",
              "    }\n",
              "\n",
              "    [theme=dark] .colab-df-convert {\n",
              "      background-color: #3B4455;\n",
              "      fill: #D2E3FC;\n",
              "    }\n",
              "\n",
              "    [theme=dark] .colab-df-convert:hover {\n",
              "      background-color: #434B5C;\n",
              "      box-shadow: 0px 1px 3px 1px rgba(0, 0, 0, 0.15);\n",
              "      filter: drop-shadow(0px 1px 2px rgba(0, 0, 0, 0.3));\n",
              "      fill: #FFFFFF;\n",
              "    }\n",
              "  </style>\n",
              "\n",
              "      <script>\n",
              "        const buttonEl =\n",
              "          document.querySelector('#df-44839faf-70e7-47af-a215-99bfc6275864 button.colab-df-convert');\n",
              "        buttonEl.style.display =\n",
              "          google.colab.kernel.accessAllowed ? 'block' : 'none';\n",
              "\n",
              "        async function convertToInteractive(key) {\n",
              "          const element = document.querySelector('#df-44839faf-70e7-47af-a215-99bfc6275864');\n",
              "          const dataTable =\n",
              "            await google.colab.kernel.invokeFunction('convertToInteractive',\n",
              "                                                     [key], {});\n",
              "          if (!dataTable) return;\n",
              "\n",
              "          const docLinkHtml = 'Like what you see? Visit the ' +\n",
              "            '<a target=\"_blank\" href=https://colab.research.google.com/notebooks/data_table.ipynb>data table notebook</a>'\n",
              "            + ' to learn more about interactive tables.';\n",
              "          element.innerHTML = '';\n",
              "          dataTable['output_type'] = 'display_data';\n",
              "          await google.colab.output.renderOutput(dataTable, element);\n",
              "          const docLink = document.createElement('div');\n",
              "          docLink.innerHTML = docLinkHtml;\n",
              "          element.appendChild(docLink);\n",
              "        }\n",
              "      </script>\n",
              "    </div>\n",
              "  </div>\n",
              "  "
            ]
          },
          "metadata": {},
          "execution_count": 48
        }
      ]
    },
    {
      "cell_type": "markdown",
      "source": [
        "4.\n",
        "\n",
        "H0: Null Hypothesis: Tenure of customer is irrelevant to customer churning\n",
        "\n",
        "HA: Alternate Hypothesis: Tenure effects customer churning\n",
        "\n",
        "Level of significance=5%(0.05)"
      ],
      "metadata": {
        "id": "KLMl69Stah6v"
      }
    },
    {
      "cell_type": "code",
      "source": [
        "tenure= pd.crosstab(data.Tenure, data.Exited)\n",
        "tenure.plot(kind='bar')"
      ],
      "metadata": {
        "colab": {
          "base_uri": "https://localhost:8080/",
          "height": 470
        },
        "id": "vt-OyV0GaVnH",
        "outputId": "f1dae330-c1d2-4ef6-9d17-d5b4a050e9d7"
      },
      "execution_count": 54,
      "outputs": [
        {
          "output_type": "execute_result",
          "data": {
            "text/plain": [
              "<Axes: xlabel='Tenure'>"
            ]
          },
          "metadata": {},
          "execution_count": 54
        },
        {
          "output_type": "display_data",
          "data": {
            "text/plain": [
              "<Figure size 640x480 with 1 Axes>"
            ],
            "image/png": "[encoded data removed]"
          },
          "metadata": {}
        }
      ]
    },
    {
      "cell_type": "code",
      "source": [
        "chi2, p_val, dof, exp_freq = chi2_contingency(tenure, correction = False)\n",
        "print('chi-square statistic: {} , p_value: {} , degree of freedom: {} ,expected frequencies: {} '.format(chi2, p_val, dof, exp_freq))\n",
        "\n",
        "if (p_val < 0.05): \n",
        "  print('Reject the null hypothesis, that the Tenure of customer is irrelevant to customer churning') \n",
        "else: \n",
        "  print('Accept the null hypothesis, that the Tenure of customer is irrelevant to customer churning')"
      ],
      "metadata": {
        "colab": {
          "base_uri": "https://localhost:8080/"
        },
        "id": "xoVSosu7bCCK",
        "outputId": "5c07d594-ac32-4d77-f9bf-ac7eb4304ba9"
      },
      "execution_count": 56,
      "outputs": [
        {
          "output_type": "stream",
          "name": "stdout",
          "text": [
            "chi-square statistic: 14.058258798510963 , p_value: 0.17035079254617927 , degree of freedom: 10 ,expected frequencies: [[328.8306  84.1694]\n",
            " [824.067  210.933 ]\n",
            " [834.4176 213.5824]\n",
            " [803.3658 205.6342]\n",
            " [787.4418 201.5582]\n",
            " [805.7544 206.2456]\n",
            " [769.9254 197.0746]\n",
            " [818.4936 209.5064]\n",
            " [816.105  208.895 ]\n",
            " [783.4608 200.5392]\n",
            " [390.138   99.862 ]] \n",
            "Accept the null hypothesis, that the Tenure of customer is irrelevant to customer churning\n"
          ]
        }
      ]
    }
  ]
}